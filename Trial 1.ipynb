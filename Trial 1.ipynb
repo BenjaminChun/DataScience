{
 "cells": [
  {
   "cell_type": "code",
   "execution_count": 2,
   "metadata": {},
   "outputs": [],
   "source": [
    "# Basic Libraries\n",
    "import numpy as np\n",
    "import pandas as pd\n",
    "import seaborn as sb\n",
    "import matplotlib.pyplot as plt # we only need pyplot\n",
    "sb.set() # set the default Seaborn style for graphics\n",
    "import json\n",
    "import requests"
   ]
  },
  {
   "cell_type": "code",
   "execution_count": 14,
   "metadata": {},
   "outputs": [
    {
     "name": "stdout",
     "output_type": "stream",
     "text": [
      "https://api.themoviedb.org/3/movie/top_rated?api_key=f8321c17110659f4510b22d316bc1389&language=en-US&page=425\n"
     ]
    }
   ],
   "source": [
    "pageNum = 425\n",
    "api_key = 'f8321c17110659f4510b22d316bc1389'\n",
    "root_url = 'https://api.themoviedb.org/3/movie/top_rated?'\n",
    "endpoint = f\"{root_url}api_key={api_key}&language=en-US&page={pageNum}\"\n",
    "print(endpoint)\n",
    "\n",
    "# https://api.themoviedb.org/3/movie/top_rated?api_key=<<api_key>>&language=en-US&page=1"
   ]
  },
  {
   "cell_type": "code",
   "execution_count": 4,
   "metadata": {},
   "outputs": [
    {
     "data": {
      "text/plain": [
       "dict"
      ]
     },
     "execution_count": 4,
     "metadata": {},
     "output_type": "execute_result"
    }
   ],
   "source": [
    "r = requests.get(endpoint)\n",
    "r_json = r.json()\n",
    "type(r_json)"
   ]
  },
  {
   "cell_type": "code",
   "execution_count": 15,
   "metadata": {},
   "outputs": [
    {
     "data": {
      "text/plain": [
       "8497"
      ]
     },
     "execution_count": 15,
     "metadata": {},
     "output_type": "execute_result"
    }
   ],
   "source": [
    "r_json['total_results']"
   ]
  },
  {
   "cell_type": "code",
   "execution_count": 5,
   "metadata": {},
   "outputs": [
    {
     "data": {
      "text/plain": [
       "dict_keys(['page', 'results', 'total_pages', 'total_results'])"
      ]
     },
     "execution_count": 5,
     "metadata": {},
     "output_type": "execute_result"
    }
   ],
   "source": [
    "r_json.keys()"
   ]
  },
  {
   "cell_type": "code",
   "execution_count": 7,
   "metadata": {},
   "outputs": [
    {
     "data": {
      "text/plain": [
       "[{'adult': False,\n",
       "  'backdrop_path': '/fQq1FWp1rC89xDrRMuyFJdFUdMd.jpg',\n",
       "  'genre_ids': [10749, 35],\n",
       "  'id': 761053,\n",
       "  'original_language': 'en',\n",
       "  'original_title': \"Gabriel's Inferno Part III\",\n",
       "  'overview': \"The final part of the film adaption of the erotic romance novel Gabriel's Inferno written by an anonymous Canadian author under the pen name Sylvain Reynard.\",\n",
       "  'popularity': 31.295,\n",
       "  'poster_path': '/fYtHxTxlhzD4QWfEbrC1rypysSD.jpg',\n",
       "  'release_date': '2020-11-19',\n",
       "  'title': \"Gabriel's Inferno Part III\",\n",
       "  'video': False,\n",
       "  'vote_average': 8.8,\n",
       "  'vote_count': 743},\n",
       " {'adult': False,\n",
       "  'backdrop_path': '/jtAI6OJIWLWiRItNSZoWjrsUtmi.jpg',\n",
       "  'genre_ids': [10749],\n",
       "  'id': 724089,\n",
       "  'original_language': 'en',\n",
       "  'original_title': \"Gabriel's Inferno Part II\",\n",
       "  'overview': \"Professor Gabriel Emerson finally learns the truth about Julia Mitchell's identity, but his realization comes a moment too late. Julia is done waiting for the well-respected Dante specialist to remember her and wants nothing more to do with him. Can Gabriel win back her heart before she finds love in another's arms?\",\n",
       "  'popularity': 8.012,\n",
       "  'poster_path': '/pci1ArYW7oJ2eyTo2NMYEKHHiCP.jpg',\n",
       "  'release_date': '2020-07-31',\n",
       "  'title': \"Gabriel's Inferno Part II\",\n",
       "  'video': False,\n",
       "  'vote_average': 8.8,\n",
       "  'vote_count': 1190},\n",
       " {'adult': False,\n",
       "  'backdrop_path': '/xRI636TOdS1K1GBqIBRSmfZ1T5x.jpg',\n",
       "  'genre_ids': [35, 18, 10749],\n",
       "  'id': 19404,\n",
       "  'original_language': 'hi',\n",
       "  'original_title': 'दिलवाले दुल्हनिया ले जायेंगे',\n",
       "  'overview': 'Raj is a rich, carefree, happy-go-lucky second generation NRI. Simran is the daughter of Chaudhary Baldev Singh, who in spite of being an NRI is very strict about adherence to Indian values. Simran has left for India to be married to her childhood fiancé. Raj leaves for India with a mission at his hands, to claim his lady love under the noses of her whole family. Thus begins a saga.',\n",
       "  'popularity': 14.925,\n",
       "  'poster_path': '/2CAL2433ZeIihfX1Hb2139CX0pW.jpg',\n",
       "  'release_date': '1995-10-20',\n",
       "  'title': 'Dilwale Dulhania Le Jayenge',\n",
       "  'video': False,\n",
       "  'vote_average': 8.8,\n",
       "  'vote_count': 2718},\n",
       " {'adult': False,\n",
       "  'backdrop_path': '/iNh3BivHyg5sQRPP1KOkzguEX0H.jpg',\n",
       "  'genre_ids': [18, 80],\n",
       "  'id': 278,\n",
       "  'original_language': 'en',\n",
       "  'original_title': 'The Shawshank Redemption',\n",
       "  'overview': 'Framed in the 1940s for the double murder of his wife and her lover, upstanding banker Andy Dufresne begins a new life at the Shawshank prison, where he puts his accounting skills to work for an amoral warden. During his long stretch in prison, Dufresne comes to be admired by the other inmates -- including an older prisoner named Red -- for his integrity and unquenchable sense of hope.',\n",
       "  'popularity': 52.2,\n",
       "  'poster_path': '/q6y0Go1tsGEsmtFryDOJo3dEmqu.jpg',\n",
       "  'release_date': '1994-09-23',\n",
       "  'title': 'The Shawshank Redemption',\n",
       "  'video': False,\n",
       "  'vote_average': 8.7,\n",
       "  'vote_count': 18521},\n",
       " {'adult': False,\n",
       "  'backdrop_path': '/w2uGvCpMtvRqZg6waC1hvLyZoJa.jpg',\n",
       "  'genre_ids': [10749],\n",
       "  'id': 696374,\n",
       "  'original_language': 'en',\n",
       "  'original_title': \"Gabriel's Inferno\",\n",
       "  'overview': \"An intriguing and sinful exploration of seduction, forbidden love, and redemption, Gabriel's Inferno is a captivating and wildly passionate tale of one man's escape from his own personal hell as he tries to earn the impossible--forgiveness and love.\",\n",
       "  'popularity': 10.937,\n",
       "  'poster_path': '/oyG9TL7FcRP4EZ9Vid6uKzwdndz.jpg',\n",
       "  'release_date': '2020-05-29',\n",
       "  'title': \"Gabriel's Inferno\",\n",
       "  'video': False,\n",
       "  'vote_average': 8.7,\n",
       "  'vote_count': 1965},\n",
       " {'adult': False,\n",
       "  'backdrop_path': '/rSPw7tgCH9c6NqICZef4kZjFOQ5.jpg',\n",
       "  'genre_ids': [18, 80],\n",
       "  'id': 238,\n",
       "  'original_language': 'en',\n",
       "  'original_title': 'The Godfather',\n",
       "  'overview': 'Spanning the years 1945 to 1955, a chronicle of the fictional Italian-American Corleone crime family. When organized crime family patriarch, Vito Corleone barely survives an attempt on his life, his youngest son, Michael steps in to take care of the would-be killers, launching a campaign of bloody revenge.',\n",
       "  'popularity': 47.287,\n",
       "  'poster_path': '/3bhkrj58Vtu7enYsRolD1fZdja1.jpg',\n",
       "  'release_date': '1972-03-14',\n",
       "  'title': 'The Godfather',\n",
       "  'video': False,\n",
       "  'vote_average': 8.7,\n",
       "  'vote_count': 13964},\n",
       " {'adult': False,\n",
       "  'backdrop_path': '/mxn0RJ6stopje13MZdwU35XDnAx.jpg',\n",
       "  'genre_ids': [10751, 12, 16, 14],\n",
       "  'id': 441130,\n",
       "  'original_language': 'en',\n",
       "  'original_title': 'Wolfwalkers',\n",
       "  'overview': 'In a time of superstition and magic, when wolves are seen as demonic and nature an evil to be tamed, a young apprentice hunter comes to Ireland with her father to wipe out the last pack. But when she saves a wild native girl, their friendship leads her to discover the world of the Wolfwalkers and transform her into the very thing her father is tasked to destroy.',\n",
       "  'popularity': 36.873,\n",
       "  'poster_path': '/ehAKuE48okTuonq6TpsNQj8vFTC.jpg',\n",
       "  'release_date': '2020-10-26',\n",
       "  'title': 'Wolfwalkers',\n",
       "  'video': False,\n",
       "  'vote_average': 8.7,\n",
       "  'vote_count': 297},\n",
       " {'adult': False,\n",
       "  'backdrop_path': '/loRmRzQXZeqG78TqZuyvSlEQfZb.jpg',\n",
       "  'genre_ids': [18, 36, 10752],\n",
       "  'id': 424,\n",
       "  'original_language': 'en',\n",
       "  'original_title': \"Schindler's List\",\n",
       "  'overview': 'The true story of how businessman Oskar Schindler saved over a thousand Jewish lives from the Nazis while they worked as slaves in his factory during World War II.',\n",
       "  'popularity': 41.749,\n",
       "  'poster_path': '/sF1U4EUQS8YHUYjNl3pMGNIQyr0.jpg',\n",
       "  'release_date': '1993-11-30',\n",
       "  'title': \"Schindler's List\",\n",
       "  'video': False,\n",
       "  'vote_average': 8.6,\n",
       "  'vote_count': 11117},\n",
       " {'adult': False,\n",
       "  'backdrop_path': '/dIWwZW7dJJtqC6CgWzYkNVKIUm8.jpg',\n",
       "  'genre_ids': [10749, 16, 18],\n",
       "  'id': 372058,\n",
       "  'original_language': 'ja',\n",
       "  'original_title': '君の名は。',\n",
       "  'overview': 'High schoolers Mitsuha and Taki are complete strangers living separate lives. But one night, they suddenly switch places. Mitsuha wakes up in Taki’s body, and he in hers. This bizarre occurrence continues to happen randomly, and the two must adjust their lives around each other.',\n",
       "  'popularity': 96.845,\n",
       "  'poster_path': '/q719jXXEzOoYaps6babgKnONONX.jpg',\n",
       "  'release_date': '2016-08-26',\n",
       "  'title': 'Your Name.',\n",
       "  'video': False,\n",
       "  'vote_average': 8.6,\n",
       "  'vote_count': 7202},\n",
       " {'adult': False,\n",
       "  'backdrop_path': '/poec6RqOKY9iSiIUmfyfPfiLtvB.jpg',\n",
       "  'genre_ids': [18, 80],\n",
       "  'id': 240,\n",
       "  'original_language': 'en',\n",
       "  'original_title': 'The Godfather: Part II',\n",
       "  'overview': 'In the continuing saga of the Corleone crime family, a young Vito Corleone grows up in Sicily and in 1910s New York. In the 1950s, Michael Corleone attempts to expand the family business into Las Vegas, Hollywood and Cuba.',\n",
       "  'popularity': 34.546,\n",
       "  'poster_path': '/hek3koDUyRQk7FIhPXsa6mT2Zc3.jpg',\n",
       "  'release_date': '1974-12-20',\n",
       "  'title': 'The Godfather: Part II',\n",
       "  'video': False,\n",
       "  'vote_average': 8.6,\n",
       "  'vote_count': 8338},\n",
       " {'adult': False,\n",
       "  'backdrop_path': '/hQQTE285UQB1lLY1XiioQ77LYnC.jpg',\n",
       "  'genre_ids': [16, 35, 10749, 18, 14],\n",
       "  'id': 572154,\n",
       "  'original_language': 'ja',\n",
       "  'original_title': '青春ブタ野郎はゆめみる少女の夢を見ない',\n",
       "  'overview': 'In Fujisawa, Sakuta Azusagawa is in his second year of high school. Blissful days with his girlfriend and upperclassman, Mai Sakurajima, are interrupted by the appearance of his first crush, Shoko Makinohara.',\n",
       "  'popularity': 121.084,\n",
       "  'poster_path': '/7Ai8vNEv4zEveh12JViGikoVPVV.jpg',\n",
       "  'release_date': '2019-06-15',\n",
       "  'title': 'Rascal Does Not Dream of a Dreaming Girl',\n",
       "  'video': False,\n",
       "  'vote_average': 8.6,\n",
       "  'vote_count': 231},\n",
       " {'adult': False,\n",
       "  'backdrop_path': '/hJuDvwzS0SPlsE6MNFOpznQltDZ.jpg',\n",
       "  'genre_ids': [16, 12, 14, 10751, 28],\n",
       "  'id': 527774,\n",
       "  'original_language': 'en',\n",
       "  'original_title': 'Raya and the Last Dragon',\n",
       "  'overview': 'Long ago, in the fantasy world of Kumandra, humans and dragons lived together in harmony. But when an evil force threatened the land, the dragons sacrificed themselves to save humanity. Now, 500 years later, that same evil has returned and it’s up to a lone warrior, Raya, to track down the legendary last dragon to restore the fractured land and its divided people.',\n",
       "  'popularity': 3673.696,\n",
       "  'poster_path': '/lPsD10PP4rgUGiGR4CCXA6iY0QQ.jpg',\n",
       "  'release_date': '2021-03-03',\n",
       "  'title': 'Raya and the Last Dragon',\n",
       "  'video': False,\n",
       "  'vote_average': 8.5,\n",
       "  'vote_count': 1310},\n",
       " {'adult': False,\n",
       "  'backdrop_path': '/Ab8mkHmkYADjU7wQiOkia9BzGvS.jpg',\n",
       "  'genre_ids': [16, 10751, 14],\n",
       "  'id': 129,\n",
       "  'original_language': 'ja',\n",
       "  'original_title': '千と千尋の神隠し',\n",
       "  'overview': 'A young girl, Chihiro, becomes trapped in a strange new world of spirits. When her parents undergo a mysterious transformation, she must call upon the courage she never knew she had to free her family.',\n",
       "  'popularity': 64.107,\n",
       "  'poster_path': '/39wmItIWsg5sZMyRUHLkWBcuVCM.jpg',\n",
       "  'release_date': '2001-07-20',\n",
       "  'title': 'Spirited Away',\n",
       "  'video': False,\n",
       "  'vote_average': 8.5,\n",
       "  'vote_count': 11056},\n",
       " {'adult': False,\n",
       "  'backdrop_path': '/TU9NIjwzjoKPwQHoHshkFcQUCG.jpg',\n",
       "  'genre_ids': [35, 53, 18],\n",
       "  'id': 496243,\n",
       "  'original_language': 'ko',\n",
       "  'original_title': '기생충',\n",
       "  'overview': \"All unemployed, Ki-taek's family takes peculiar interest in the wealthy and glamorous Parks for their livelihood until they get entangled in an unexpected incident.\",\n",
       "  'popularity': 147.528,\n",
       "  'poster_path': '/7IiTTgloJzvGI1TAYymCfbfl3vT.jpg',\n",
       "  'release_date': '2019-05-30',\n",
       "  'title': 'Parasite',\n",
       "  'video': False,\n",
       "  'vote_average': 8.5,\n",
       "  'vote_count': 10893},\n",
       " {'adult': False,\n",
       "  'backdrop_path': '/uWVkEo9PWHu9algZsiLPi6sRU64.jpg',\n",
       "  'genre_ids': [36, 10402, 18],\n",
       "  'id': 556574,\n",
       "  'original_language': 'en',\n",
       "  'original_title': 'Hamilton',\n",
       "  'overview': 'Presenting the tale of American founding father Alexander Hamilton, this filmed version of the original Broadway smash hit is the story of America then, told by America now.',\n",
       "  'popularity': 21.224,\n",
       "  'poster_path': '/h1B7tW0t399VDjAcWJh8m87469b.jpg',\n",
       "  'release_date': '2020-07-03',\n",
       "  'title': 'Hamilton',\n",
       "  'video': False,\n",
       "  'vote_average': 8.5,\n",
       "  'vote_count': 657},\n",
       " {'adult': False,\n",
       "  'backdrop_path': '/1fOsyhVz5qyX2rl1qqX6KImVhTx.jpg',\n",
       "  'genre_ids': [18, 35],\n",
       "  'id': 644479,\n",
       "  'original_language': 'es',\n",
       "  'original_title': 'Dedicada a mi ex',\n",
       "  'overview': 'The film tells the story of Ariel, a 21-year-old who decides to form a rock band to compete for a prize of ten thousand dollars in a musical band contest, this as a last option when trying to get money to save their relationship and reunite with his ex-girlfriend, which breaks due to the trip she must make to Finland for an internship. Ariel with her friend Ortega, decides to make a casting to find the other members of the band, although they do not know nothing about music, thus forming a band with members that have diverse and opposite personalities.',\n",
       "  'popularity': 28.004,\n",
       "  'poster_path': '/riAooJrFvVhotyaOgoI0WR7okSe.jpg',\n",
       "  'release_date': '2019-11-01',\n",
       "  'title': 'Dedicated to my ex',\n",
       "  'video': False,\n",
       "  'vote_average': 8.5,\n",
       "  'vote_count': 353},\n",
       " {'adult': False,\n",
       "  'backdrop_path': '/xMIyotorUv2Yz7zpQz2QYc8wkWB.jpg',\n",
       "  'genre_ids': [14, 18, 80],\n",
       "  'id': 497,\n",
       "  'original_language': 'en',\n",
       "  'original_title': 'The Green Mile',\n",
       "  'overview': \"A supernatural tale set on death row in a Southern prison, where gentle giant John Coffey possesses the mysterious power to heal people's ailments. When the cell block's head guard, Paul Edgecomb, recognizes Coffey's miraculous gift, he tries desperately to help stave off the condemned man's execution.\",\n",
       "  'popularity': 40.388,\n",
       "  'poster_path': '/velWPhVMQeQKcxggNEU8YmIo52R.jpg',\n",
       "  'release_date': '1999-12-10',\n",
       "  'title': 'The Green Mile',\n",
       "  'video': False,\n",
       "  'vote_average': 8.5,\n",
       "  'vote_count': 11958},\n",
       " {'adult': False,\n",
       "  'backdrop_path': '/w7RDIgQM6bLT7JXtH4iUQd3Iwxm.jpg',\n",
       "  'genre_ids': [53, 80],\n",
       "  'id': 680,\n",
       "  'original_language': 'en',\n",
       "  'original_title': 'Pulp Fiction',\n",
       "  'overview': \"A burger-loving hit man, his philosophical partner, a drug-addled gangster's moll and a washed-up boxer converge in this sprawling, comedic crime caper. Their adventures unfurl in three stories that ingeniously trip back and forth in time.\",\n",
       "  'popularity': 46.994,\n",
       "  'poster_path': '/plnlrtBUULT0rh3Xsjmpubiso3L.jpg',\n",
       "  'release_date': '1994-09-10',\n",
       "  'title': 'Pulp Fiction',\n",
       "  'video': False,\n",
       "  'vote_average': 8.5,\n",
       "  'vote_count': 20742},\n",
       " {'adult': False,\n",
       "  'backdrop_path': '/qqHQsStV6exghCM7zbObuYBiYxw.jpg',\n",
       "  'genre_ids': [18],\n",
       "  'id': 389,\n",
       "  'original_language': 'en',\n",
       "  'original_title': '12 Angry Men',\n",
       "  'overview': \"The defense and the prosecution have rested and the jury is filing into the jury room to decide if a young Spanish-American is guilty or innocent of murdering his father. What begins as an open and shut case soon becomes a mini-drama of each of the jurors' prejudices and preconceptions about the trial, the accused, and each other.\",\n",
       "  'popularity': 25.351,\n",
       "  'poster_path': '/wh0f80G6GZvYBNiYmvqFngt3IYq.jpg',\n",
       "  'release_date': '1957-04-10',\n",
       "  'title': '12 Angry Men',\n",
       "  'video': False,\n",
       "  'vote_average': 8.5,\n",
       "  'vote_count': 5423},\n",
       " {'adult': False,\n",
       "  'backdrop_path': '/6aNKD81RHR1DqUUa8kOZ1TBY1Lp.jpg',\n",
       "  'genre_ids': [35, 18],\n",
       "  'id': 637,\n",
       "  'original_language': 'it',\n",
       "  'original_title': 'La vita è bella',\n",
       "  'overview': 'A touching story of an Italian book seller of Jewish ancestry who lives in his own little fairy tale. His creative and happy life would come to an abrupt halt when his entire family is deported to a concentration camp during World War II. While locked up he tries to convince his son that the whole thing is just a game.',\n",
       "  'popularity': 36.584,\n",
       "  'poster_path': '/74hLDKjD5aGYOotO6esUVaeISa2.jpg',\n",
       "  'release_date': '1997-12-20',\n",
       "  'title': 'Life Is Beautiful',\n",
       "  'video': False,\n",
       "  'vote_average': 8.5,\n",
       "  'vote_count': 9960}]"
      ]
     },
     "execution_count": 7,
     "metadata": {},
     "output_type": "execute_result"
    }
   ],
   "source": [
    "r_json['results']"
   ]
  },
  {
   "cell_type": "code",
   "execution_count": 8,
   "metadata": {},
   "outputs": [
    {
     "data": {
      "text/plain": [
       "{'adult': False,\n",
       " 'backdrop_path': '/fQq1FWp1rC89xDrRMuyFJdFUdMd.jpg',\n",
       " 'genre_ids': [10749, 35],\n",
       " 'id': 761053,\n",
       " 'original_language': 'en',\n",
       " 'original_title': \"Gabriel's Inferno Part III\",\n",
       " 'overview': \"The final part of the film adaption of the erotic romance novel Gabriel's Inferno written by an anonymous Canadian author under the pen name Sylvain Reynard.\",\n",
       " 'popularity': 31.295,\n",
       " 'poster_path': '/fYtHxTxlhzD4QWfEbrC1rypysSD.jpg',\n",
       " 'release_date': '2020-11-19',\n",
       " 'title': \"Gabriel's Inferno Part III\",\n",
       " 'video': False,\n",
       " 'vote_average': 8.8,\n",
       " 'vote_count': 743}"
      ]
     },
     "execution_count": 8,
     "metadata": {},
     "output_type": "execute_result"
    }
   ],
   "source": [
    "r_json['results'][0]"
   ]
  },
  {
   "cell_type": "code",
   "execution_count": 9,
   "metadata": {},
   "outputs": [
    {
     "data": {
      "text/plain": [
       "dict_keys(['adult', 'backdrop_path', 'genre_ids', 'id', 'original_language', 'original_title', 'overview', 'popularity', 'poster_path', 'release_date', 'title', 'video', 'vote_average', 'vote_count'])"
      ]
     },
     "execution_count": 9,
     "metadata": {},
     "output_type": "execute_result"
    }
   ],
   "source": [
    "r_json['results'][0].keys()"
   ]
  },
  {
   "cell_type": "code",
   "execution_count": 12,
   "metadata": {},
   "outputs": [
    {
     "name": "stdout",
     "output_type": "stream",
     "text": [
      "https://api.themoviedb.org/3/movie/761053?api_key=f8321c17110659f4510b22d316bc1389&language=en-US\n"
     ]
    }
   ],
   "source": [
    "movie_id = r_json['results'][0]['id']\n",
    "endpoint2 = f\"https://api.themoviedb.org/3/movie/{movie_id}?api_key={api_key}&language=en-US\"\n",
    "print(endpoint2)"
   ]
  },
  {
   "cell_type": "code",
   "execution_count": 22,
   "metadata": {},
   "outputs": [],
   "source": [
    "endpoint3 = f\"https://api.themoviedb.org/3/genre/12-adventure/movie?api_key={api_key}&language=en-US\""
   ]
  },
  {
   "cell_type": "code",
   "execution_count": 23,
   "metadata": {},
   "outputs": [
    {
     "name": "stdout",
     "output_type": "stream",
     "text": [
      "https://api.themoviedb.org/3/genre/12-adventure/movie?api_key=f8321c17110659f4510b22d316bc1389&language=en-US\n"
     ]
    }
   ],
   "source": [
    "print(endpoint3)"
   ]
  },
  {
   "cell_type": "code",
   "execution_count": 24,
   "metadata": {},
   "outputs": [],
   "source": [
    "## movies list in a specific genre\n",
    "endpoint3 = f\"https://api.themoviedb.org/3/discover/movie?api_key={api_key}&with_genres=27\""
   ]
  },
  {
   "cell_type": "code",
   "execution_count": 25,
   "metadata": {},
   "outputs": [
    {
     "name": "stdout",
     "output_type": "stream",
     "text": [
      "https://api.themoviedb.org/3/discover/movie?api_key=f8321c17110659f4510b22d316bc1389&with_genres=27\n"
     ]
    }
   ],
   "source": [
    "print(endpoint3)"
   ]
  },
  {
   "cell_type": "code",
   "execution_count": null,
   "metadata": {},
   "outputs": [],
   "source": []
  }
 ],
 "metadata": {
  "kernelspec": {
   "display_name": "Python 3",
   "language": "python",
   "name": "python3"
  },
  "language_info": {
   "codemirror_mode": {
    "name": "ipython",
    "version": 3
   },
   "file_extension": ".py",
   "mimetype": "text/x-python",
   "name": "python",
   "nbconvert_exporter": "python",
   "pygments_lexer": "ipython3",
   "version": "3.8.5"
  }
 },
 "nbformat": 4,
 "nbformat_minor": 4
}
